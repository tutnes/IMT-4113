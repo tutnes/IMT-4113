{
 "cells": [
  {
   "cell_type": "code",
   "execution_count": 21,
   "id": "1bc6b43b",
   "metadata": {},
   "outputs": [
    {
     "name": "stdout",
     "output_type": "stream",
     "text": [
      "[ 1  2  3  4  5  6  7  8  9 10 11 12 13 14 15 16 17 18 19 20 21 22 23 24\n",
      " 25]\n",
      "[ 1  3  5  7  9 11 13 15 17 19 21 23 25 27 29 31 33 35 37 39 41 43 45 47\n",
      " 49 51 53 55 57 59 61 63 65 67 69 71 73 75 77 79 81 83 85 87 89 91 93 95\n",
      " 97 99]\n",
      "[9.5 9.  8.5 8.  7.5 7.  6.5 6.  5.5 5.  4.5 4.  3.5 3.  2.5 2.  1.5 1.\n",
      " 0.5 0. ]\n"
     ]
    }
   ],
   "source": [
    "# Excersize 1\n",
    "import numpy as np\n",
    "x = np.arange(1,26)\n",
    "y = np.arange(1,100,2)\n",
    "z = np.flip(np.arange(0,10,.5))\n",
    "\n",
    "\n",
    "print(x)\n",
    "print(y)\n",
    "print(z)\n",
    "\n",
    "\n"
   ]
  },
  {
   "cell_type": "code",
   "execution_count": 24,
   "id": "3561eeb7",
   "metadata": {},
   "outputs": [
    {
     "name": "stdout",
     "output_type": "stream",
     "text": [
      "[37 31 29 23 19 17 13 11  7  5  3  2]\n"
     ]
    }
   ],
   "source": [
    "# Excersize 2\n",
    "import numpy as np\n",
    "x = [2, 3, 5, 7, 11, 13, 17, 19, 23, 29, 31, 37]\n",
    "z = \n"
   ]
  }
 ],
 "metadata": {
  "kernelspec": {
   "display_name": "Python 3.8.10 64-bit",
   "language": "python",
   "name": "python3"
  },
  "language_info": {
   "codemirror_mode": {
    "name": "ipython",
    "version": 3
   },
   "file_extension": ".py",
   "mimetype": "text/x-python",
   "name": "python",
   "nbconvert_exporter": "python",
   "pygments_lexer": "ipython3",
   "version": "3.8.10"
  },
  "vscode": {
   "interpreter": {
    "hash": "7a622f36d51fd3996bb97b17d1062e38a03a1ecfc964fe40f65e3b3df9192d01"
   }
  }
 },
 "nbformat": 4,
 "nbformat_minor": 5
}
